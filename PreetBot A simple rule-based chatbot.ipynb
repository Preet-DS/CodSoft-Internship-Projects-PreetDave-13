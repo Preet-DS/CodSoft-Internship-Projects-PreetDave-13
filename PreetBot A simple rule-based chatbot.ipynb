{
 "cells": [
  {
   "cell_type": "code",
   "execution_count": 1,
   "id": "a8031e17-aae7-44a0-9fad-1659693597b9",
   "metadata": {},
   "outputs": [
    {
     "name": "stdout",
     "output_type": "stream",
     "text": [
      "🤖 PreetBot at your service! Ask me anything or type 'bye' to quit.\n",
      "\n"
     ]
    },
    {
     "name": "stdin",
     "output_type": "stream",
     "text": [
      "You:  hello\n"
     ]
    },
    {
     "name": "stdout",
     "output_type": "stream",
     "text": [
      "PreetBot: Hi there! 👋 How can I assist you today?\n"
     ]
    },
    {
     "name": "stdin",
     "output_type": "stream",
     "text": [
      "You:  time\n"
     ]
    },
    {
     "name": "stdout",
     "output_type": "stream",
     "text": [
      "PreetBot: The current time is 10:08:37 ⏰\n"
     ]
    },
    {
     "name": "stdin",
     "output_type": "stream",
     "text": [
      "You:  weather\n"
     ]
    },
    {
     "name": "stdout",
     "output_type": "stream",
     "text": [
      "PreetBot: I can't fetch real weather, but it feels sunny in here! ☀️\n"
     ]
    },
    {
     "name": "stdin",
     "output_type": "stream",
     "text": [
      "You:  thanks\n"
     ]
    },
    {
     "name": "stdout",
     "output_type": "stream",
     "text": [
      "PreetBot: You're most welcome! 😊\n"
     ]
    },
    {
     "name": "stdin",
     "output_type": "stream",
     "text": [
      "You:  ''\n"
     ]
    },
    {
     "name": "stdout",
     "output_type": "stream",
     "text": [
      "PreetBot: I'm still learning. Try asking something simple like the time or a greeting!\n"
     ]
    },
    {
     "name": "stdin",
     "output_type": "stream",
     "text": [
      "You:  you\n"
     ]
    },
    {
     "name": "stdout",
     "output_type": "stream",
     "text": [
      "PreetBot: I'm still learning. Try asking something simple like the time or a greeting!\n"
     ]
    },
    {
     "name": "stdin",
     "output_type": "stream",
     "text": [
      "You:  your name\n"
     ]
    },
    {
     "name": "stdout",
     "output_type": "stream",
     "text": [
      "PreetBot: I'm PreetBot – your friendly rule-based assistant 🤖\n"
     ]
    },
    {
     "name": "stdin",
     "output_type": "stream",
     "text": [
      "You:  bye\n"
     ]
    },
    {
     "name": "stdout",
     "output_type": "stream",
     "text": [
      "PreetBot: Goodbye! Have a great day ahead! 👋\n"
     ]
    }
   ],
   "source": [
    "# PreetBot: A simple rule-based chatbot\n",
    "\n",
    "def match_input(user_input):\n",
    "    user_input = user_input.lower()\n",
    "\n",
    "    # Simple predefined rules using pattern keywords\n",
    "    if any(greet in user_input for greet in [\"hi\", \"hello\", \"hey\"]):\n",
    "        return \"Hi there! 👋 How can I assist you today?\"\n",
    "    \n",
    "    elif \"your name\" in user_input:\n",
    "        return \"I'm PreetBot – your friendly rule-based assistant 🤖\"\n",
    "\n",
    "    elif \"time\" in user_input:\n",
    "        from datetime import datetime\n",
    "        return f\"The current time is {datetime.now().strftime('%H:%M:%S')} ⏰\"\n",
    "\n",
    "    elif \"weather\" in user_input:\n",
    "        return \"I can't fetch real weather, but it feels sunny in here! ☀️\"\n",
    "\n",
    "    elif \"thanks\" in user_input or \"thank you\" in user_input:\n",
    "        return \"You're most welcome! 😊\"\n",
    "\n",
    "    elif \"bye\" in user_input or \"exit\" in user_input:\n",
    "        return \"Goodbye! Have a great day ahead! 👋\"\n",
    "\n",
    "    elif user_input.strip() == \"\":\n",
    "        return \"Hmm, I didn't catch that. Can you say something?\"\n",
    "\n",
    "    else:\n",
    "        return \"I'm still learning. Try asking something simple like the time or a greeting!\"\n",
    "\n",
    "def preetbot():\n",
    "    print(\"🤖 PreetBot at your service! Ask me anything or type 'bye' to quit.\\n\")\n",
    "\n",
    "    while True:\n",
    "        user_input = input(\"You: \")\n",
    "        response = match_input(user_input)\n",
    "        print(\"PreetBot:\", response)\n",
    "\n",
    "        if \"bye\" in user_input.lower() or \"exit\" in user_input.lower():\n",
    "            break\n",
    "\n",
    "# Run the chatbot\n",
    "preetbot()"
   ]
  },
  {
   "cell_type": "code",
   "execution_count": null,
   "id": "97bafbdd-d30c-4d12-97a8-5b17f4b0cd56",
   "metadata": {},
   "outputs": [],
   "source": []
  }
 ],
 "metadata": {
  "kernelspec": {
   "display_name": "Python 3 (ipykernel)",
   "language": "python",
   "name": "python3"
  },
  "language_info": {
   "codemirror_mode": {
    "name": "ipython",
    "version": 3
   },
   "file_extension": ".py",
   "mimetype": "text/x-python",
   "name": "python",
   "nbconvert_exporter": "python",
   "pygments_lexer": "ipython3",
   "version": "3.12.4"
  }
 },
 "nbformat": 4,
 "nbformat_minor": 5
}
