{
 "cells": [
  {
   "cell_type": "code",
   "execution_count": 3,
   "id": "214d3a97-210a-4abf-9003-c1a6d25d5ad5",
   "metadata": {},
   "outputs": [
    {
     "name": "stdout",
     "output_type": "stream",
     "text": [
      "🎬 Welcome to PreetRecommender - Bollywood Edition\n",
      "\n",
      "🔍 Because you liked *3 Idiots*, you may also enjoy:\n",
      "➡️ Zindagi Na Milegi Dobara\n",
      "➡️ Barfi!\n",
      "➡️ Dilwale Dulhania Le Jayenge\n"
     ]
    }
   ],
   "source": [
    "# PreetRecommender - A Simple Bollywood Movie Recommendation System\n",
    "\n",
    "from sklearn.feature_extraction.text import TfidfVectorizer\n",
    "from sklearn.metrics.pairwise import cosine_similarity\n",
    "\n",
    "# Sample Bollywood movie data with genres and descriptions\n",
    "movies = {\n",
    "    \"3 Idiots\": \"Comedy drama education friendship engineering\",\n",
    "    \"Dangal\": \"Sports wrestling biopic girls empowerment\",\n",
    "    \"PK\": \"Comedy sci-fi alien religion satire\",\n",
    "    \"Lagaan\": \"Period drama cricket colonial India\",\n",
    "    \"Zindagi Na Milegi Dobara\": \"Travel friendship self-discovery\",\n",
    "    \"Dilwale Dulhania Le Jayenge\": \"Romance drama family Europe\",\n",
    "    \"Gully Boy\": \"Rap music street struggle dreams\",\n",
    "    \"Barfi!\": \"Romance disability comedy emotions\",\n",
    "    \"Taare Zameen Par\": \"Emotional school dyslexia teacher student\",\n",
    "    \"Kahaani\": \"Thriller mystery suspense woman search\"\n",
    "}\n",
    "\n",
    "# Convert movie descriptions into a list\n",
    "movie_names = list(movies.keys())\n",
    "movie_features = list(movies.values())\n",
    "\n",
    "# Vectorize the text data using TF-IDF\n",
    "vectorizer = TfidfVectorizer()\n",
    "feature_matrix = vectorizer.fit_transform(movie_features)\n",
    "\n",
    "# Function to recommend similar movies\n",
    "def recommend_movie(user_movie):\n",
    "    if user_movie not in movie_names:\n",
    "        print(\"Movie not found in database.\")\n",
    "        return\n",
    "    \n",
    "    movie_index = movie_names.index(user_movie)\n",
    "    similarity_scores = cosine_similarity(feature_matrix[movie_index], feature_matrix).flatten()\n",
    "    \n",
    "    # Get top 3 recommendations excluding the movie itself\n",
    "    similar_indices = similarity_scores.argsort()[-4:-1][::-1]\n",
    "    \n",
    "    print(f\"\\n🔍 Because you liked *{user_movie}*, you may also enjoy:\")\n",
    "    for idx in similar_indices:\n",
    "        print(f\"➡️ {movie_names[idx]}\")\n",
    "\n",
    "# Example usage\n",
    "print(\"🎬 Welcome to PreetRecommender - Bollywood Edition\")\n",
    "recommend_movie(\"3 Idiots\")\n"
   ]
  },
  {
   "cell_type": "code",
   "execution_count": null,
   "id": "9d181266-96c2-48db-b2cd-b702364d1910",
   "metadata": {},
   "outputs": [],
   "source": [
    "joker\n"
   ]
  }
 ],
 "metadata": {
  "kernelspec": {
   "display_name": "Python 3 (ipykernel)",
   "language": "python",
   "name": "python3"
  },
  "language_info": {
   "codemirror_mode": {
    "name": "ipython",
    "version": 3
   },
   "file_extension": ".py",
   "mimetype": "text/x-python",
   "name": "python",
   "nbconvert_exporter": "python",
   "pygments_lexer": "ipython3",
   "version": "3.12.4"
  }
 },
 "nbformat": 4,
 "nbformat_minor": 5
}
