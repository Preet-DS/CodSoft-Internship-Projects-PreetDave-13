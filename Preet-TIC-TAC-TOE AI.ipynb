{
 "cells": [
  {
   "cell_type": "code",
   "execution_count": 1,
   "id": "54816795-6e21-485a-8ce5-f77ae2a2108a",
   "metadata": {},
   "outputs": [
    {
     "name": "stdout",
     "output_type": "stream",
     "text": [
      "Welcome to Preet Dave's Unbeatable Tic-Tac-Toe!\n",
      "|   |   |   |\n",
      "|   |   |   |\n",
      "|   |   |   |\n"
     ]
    },
    {
     "name": "stdin",
     "output_type": "stream",
     "text": [
      "Enter your move (1-9):  5\n"
     ]
    },
    {
     "name": "stdout",
     "output_type": "stream",
     "text": [
      "|   |   |   |\n",
      "|   | X |   |\n",
      "|   |   |   |\n",
      "AI is thinking...\n",
      "| O |   |   |\n",
      "|   | X |   |\n",
      "|   |   |   |\n"
     ]
    },
    {
     "name": "stdin",
     "output_type": "stream",
     "text": [
      "Enter your move (1-9):  3\n"
     ]
    },
    {
     "name": "stdout",
     "output_type": "stream",
     "text": [
      "| O |   | X |\n",
      "|   | X |   |\n",
      "|   |   |   |\n",
      "AI is thinking...\n",
      "| O |   | X |\n",
      "|   | X |   |\n",
      "| O |   |   |\n"
     ]
    },
    {
     "name": "stdin",
     "output_type": "stream",
     "text": [
      "Enter your move (1-9):  4\n"
     ]
    },
    {
     "name": "stdout",
     "output_type": "stream",
     "text": [
      "| O |   | X |\n",
      "| X | X |   |\n",
      "| O |   |   |\n",
      "AI is thinking...\n",
      "| O |   | X |\n",
      "| X | X | O |\n",
      "| O |   |   |\n"
     ]
    },
    {
     "name": "stdin",
     "output_type": "stream",
     "text": [
      "Enter your move (1-9):  7\n"
     ]
    },
    {
     "name": "stdout",
     "output_type": "stream",
     "text": [
      "Invalid move! Try again.\n"
     ]
    },
    {
     "name": "stdin",
     "output_type": "stream",
     "text": [
      "Enter your move (1-9):  8\n"
     ]
    },
    {
     "name": "stdout",
     "output_type": "stream",
     "text": [
      "| O |   | X |\n",
      "| X | X | O |\n",
      "| O | X |   |\n",
      "AI is thinking...\n",
      "| O | O | X |\n",
      "| X | X | O |\n",
      "| O | X |   |\n"
     ]
    },
    {
     "name": "stdin",
     "output_type": "stream",
     "text": [
      "Enter your move (1-9):  9\n"
     ]
    },
    {
     "name": "stdout",
     "output_type": "stream",
     "text": [
      "| O | O | X |\n",
      "| X | X | O |\n",
      "| O | X | X |\n",
      "It's a draw!\n"
     ]
    }
   ],
   "source": [
    "import math\n",
    "\n",
    "# Board setup\n",
    "board = [\" \" for _ in range(9)]\n",
    "\n",
    "# Print board\n",
    "def print_board():\n",
    "    for row in [board[i*3:(i+1)*3] for i in range(3)]:\n",
    "        print(\"| \" + \" | \".join(row) + \" |\")\n",
    "\n",
    "# Check for winner\n",
    "def check_winner(player):\n",
    "    win_cond = [(0,1,2), (3,4,5), (6,7,8),\n",
    "                (0,3,6), (1,4,7), (2,5,8),\n",
    "                (0,4,8), (2,4,6)]\n",
    "    for a, b, c in win_cond:\n",
    "        if board[a] == board[b] == board[c] == player:\n",
    "            return True\n",
    "    return False\n",
    "\n",
    "# Check for draw\n",
    "def is_draw():\n",
    "    return \" \" not in board\n",
    "\n",
    "# Get empty positions\n",
    "def empty_cells():\n",
    "    return [i for i, x in enumerate(board) if x == \" \"]\n",
    "\n",
    "# Minimax Algorithm\n",
    "def minimax(is_maximizing):\n",
    "    if check_winner(\"O\"):\n",
    "        return 1\n",
    "    elif check_winner(\"X\"):\n",
    "        return -1\n",
    "    elif is_draw():\n",
    "        return 0\n",
    "\n",
    "    if is_maximizing:\n",
    "        best = -math.inf\n",
    "        for i in empty_cells():\n",
    "            board[i] = \"O\"\n",
    "            val = minimax(False)\n",
    "            board[i] = \" \"\n",
    "            best = max(best, val)\n",
    "        return best\n",
    "    else:\n",
    "        best = math.inf\n",
    "        for i in empty_cells():\n",
    "            board[i] = \"X\"\n",
    "            val = minimax(True)\n",
    "            board[i] = \" \"\n",
    "            best = min(best, val)\n",
    "        return best\n",
    "\n",
    "# AI Move\n",
    "def ai_move():\n",
    "    best_score = -math.inf\n",
    "    move = None\n",
    "    for i in empty_cells():\n",
    "        board[i] = \"O\"\n",
    "        score = minimax(False)\n",
    "        board[i] = \" \"\n",
    "        if score > best_score:\n",
    "            best_score = score\n",
    "            move = i\n",
    "    board[move] = \"O\"\n",
    "\n",
    "# Main Game Loop\n",
    "def play_game():\n",
    "    print(\"Welcome to Preet Dave's Unbeatable Tic-Tac-Toe!\")\n",
    "    print_board()\n",
    "\n",
    "    while True:\n",
    "        # Human move\n",
    "        move = int(input(\"Enter your move (1-9): \")) - 1\n",
    "        if board[move] != \" \":\n",
    "            print(\"Invalid move! Try again.\")\n",
    "            continue\n",
    "        board[move] = \"X\"\n",
    "\n",
    "        print_board()\n",
    "\n",
    "        if check_winner(\"X\"):\n",
    "            print(\"You win! Congrats!\")\n",
    "            break\n",
    "        elif is_draw():\n",
    "            print(\"It's a draw!\")\n",
    "            break\n",
    "\n",
    "        # AI move\n",
    "        print(\"AI is thinking...\")\n",
    "        ai_move()\n",
    "        print_board()\n",
    "\n",
    "        if check_winner(\"O\"):\n",
    "            print(\"AI wins! Better luck next time.\")\n",
    "            break\n",
    "        elif is_draw():\n",
    "            print(\"It's a draw!\")\n",
    "            break\n",
    "\n",
    "# Run the game\n",
    "play_game()"
   ]
  },
  {
   "cell_type": "code",
   "execution_count": null,
   "id": "62937ffc-c1e0-467a-9fe1-69d0d160cbc6",
   "metadata": {},
   "outputs": [],
   "source": []
  }
 ],
 "metadata": {
  "kernelspec": {
   "display_name": "Python 3 (ipykernel)",
   "language": "python",
   "name": "python3"
  },
  "language_info": {
   "codemirror_mode": {
    "name": "ipython",
    "version": 3
   },
   "file_extension": ".py",
   "mimetype": "text/x-python",
   "name": "python",
   "nbconvert_exporter": "python",
   "pygments_lexer": "ipython3",
   "version": "3.12.4"
  }
 },
 "nbformat": 4,
 "nbformat_minor": 5
}
